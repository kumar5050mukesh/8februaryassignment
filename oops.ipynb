{
 "cells": [
  {
   "cell_type": "code",
   "execution_count": 3,
   "id": "da4b681a-42fd-4993-b6ac-f071c52d3cee",
   "metadata": {},
   "outputs": [
    {
     "name": "stdin",
     "output_type": "stream",
     "text": [
      "Enter the amount   100\n"
     ]
    },
    {
     "name": "stdout",
     "output_type": "stream",
     "text": [
      "Deposit successful. Balance: 200\n"
     ]
    },
    {
     "name": "stdin",
     "output_type": "stream",
     "text": [
      "Enter the amount to be withdrawn:  50\n"
     ]
    },
    {
     "name": "stdout",
     "output_type": "stream",
     "text": [
      "Withdrawal successful. Balance: 150\n",
      "Total balance: 150\n"
     ]
    }
   ],
   "source": [
    "# What is Abstraction in OOps? Explain with an example.\n",
    "# Differentiate between Abstraction and Encapsulation. Explain with an example.\n",
    "# What is abc module in python? Why is it used?\n",
    "# How can we achieve data abstraction?\n",
    "# Can we create an instance of an abstract class? Explain your answer.\n",
    "\n",
    "''' ANS(1) Abstraction means the hiding of the compexity of the coding and only provide the \n",
    "essential features to the user thus by using the method of the inheritance polymorphism\n",
    "and the encapusaltion the abstractin is provided to  the user'''\n",
    "\n",
    "\n",
    "'''Ans(2) abstraction includes all the method of the encapsulation inheritance polymorphism \n",
    "where as the encapsulation is one of the method in which the in which the sensitive data about a \n",
    "variable is hidden and it can be used only passsing the name of the class and the variable by \n",
    "example _classname__variablename \n",
    "and the get method to get the value of the variable and there is the set method to set the value of \n",
    "the variable \n",
    "\n",
    "\n",
    "here is the example of the abastraction class'''\n",
    "\n",
    "class BankAccount:\n",
    "    def __init__(self, balance,total):\n",
    "        self.__balance = balance\n",
    "        self.total=0\n",
    "    def getter_balance(self):\n",
    "        return self.__balance\n",
    "\n",
    "    def setter_balance(self, amount):\n",
    "        self.__balance += amount\n",
    "        \n",
    "    def withdraw_method(self,amount):\n",
    "        self.__balance -= amount\n",
    "        \n",
    "    def total_balance(self):\n",
    "        self.__balance=total+self.__balance\n",
    "        \n",
    "\n",
    "class BankAccount:\n",
    "    def __init__(self, balance):\n",
    "        self.__balance = balance\n",
    "        self.total = 0\n",
    "\n",
    "    def getter_balance(self):\n",
    "        return self.__balance\n",
    "\n",
    "    def setter_balance(self, amount):\n",
    "        self.__balance += amount\n",
    "        \n",
    "    def withdraw_method(self, amount):\n",
    "        self.__balance -= amount\n",
    "        \n",
    "    def total_balance(self):\n",
    "        self.total += self.__balance\n",
    "        return self.total\n",
    "\n",
    "p = BankAccount(0)\n",
    "x = int(input('Enter the amount  '))\n",
    "p.setter_balance(x)\n",
    "print('Deposit successful. Balance:', p.getter_balance())\n",
    "y = int(input('Enter the amount to be withdrawn: '))\n",
    "p.withdraw_method(y)\n",
    "print('Withdrawal successful. Balance:', p.getter_balance())\n",
    "print('Total balance:', p.total_balance())\n",
    "\n",
    "        \n"
   ]
  },
  {
   "cell_type": "code",
   "execution_count": null,
   "id": "48600e7b-5e59-490c-af03-40870468777f",
   "metadata": {},
   "outputs": [],
   "source": [
    "ans(3) abc module is used for the abstract class the abstract class cannot be instantated but it is\n",
    "used fot the subclass to inherit certain method and properties \n",
    "\n",
    "suppose there is a payment getway in which there is three method for the payment of money \n",
    "the attribrute for the debit and the credit will be the same but the paymethod for the \n",
    "will same this payment attribute and the method can be put in the abstract class "
   ]
  },
  {
   "cell_type": "code",
   "execution_count": null,
   "id": "3aa9e040-0c88-4ab5-8b43-5d70abb41067",
   "metadata": {},
   "outputs": [],
   "source": [
    "ans(4) by declaring any variable private within a class the data abstraction canbe provided\n",
    "it is a part of the features called the encapsulation "
   ]
  },
  {
   "cell_type": "code",
   "execution_count": null,
   "id": "45020dd9-1bf3-4e9c-aba2-2b300b5474e4",
   "metadata": {},
   "outputs": [],
   "source": [
    "ans(5)we can not create the instance of the abstract class it is a class not to create object\n",
    "but it is created for the subclass to access the method and the properties\n",
    "\n",
    "import abc\n",
    "\n",
    "class Shape(metaclass=abc.ABCMeta):\n",
    "    @abc.abstractmethod\n",
    "    def area(self):\n",
    "        pass\n",
    "\n",
    "class Circle(Shape):\n",
    "    def __init__(self, radius):\n",
    "        self.radius = radius\n",
    "        \n",
    "    def area(self):\n",
    "        return 3.14 * self.radius * self.radius\n",
    "\n",
    "class Rectangle(Shape):\n",
    "    def __init__(self, width, height):\n",
    "        self.width = width\n",
    "        self.height = height\n",
    "        \n",
    "    def area(self):\n",
    "        return self.width * self.height\n",
    "\n",
    "here the shape class does not has variable but rather it passes the proprties \n",
    "of the area method for the subclass circle and the rectangle "
   ]
  }
 ],
 "metadata": {
  "kernelspec": {
   "display_name": "Python 3 (ipykernel)",
   "language": "python",
   "name": "python3"
  },
  "language_info": {
   "codemirror_mode": {
    "name": "ipython",
    "version": 3
   },
   "file_extension": ".py",
   "mimetype": "text/x-python",
   "name": "python",
   "nbconvert_exporter": "python",
   "pygments_lexer": "ipython3",
   "version": "3.10.8"
  }
 },
 "nbformat": 4,
 "nbformat_minor": 5
}
